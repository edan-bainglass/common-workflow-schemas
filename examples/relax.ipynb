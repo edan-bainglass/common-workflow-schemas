{
 "cells": [
  {
   "cell_type": "markdown",
   "metadata": {},
   "source": [
    "# Common Relax Workflow\n",
    "\n",
    "Author: Edan Bainglass (edan.bainglass@psi.ch)\n",
    "\n",
    "This notebook demonstrates the use of generic input/output OO-LD schemas for a structure \n",
    "geometry optimization (relaxation) workflow, here driven by the AiiDA workflow engine.\n",
    "\n",
    "For more information on the principles behind this work, visit the following [PREMISE organization\n",
    "repository](https://github.com/ord-premise/common-workflow-schemas).\n",
    "\n",
    "Requirements:\n",
    "- `AiiDA~2.6`\n",
    "- `OPTIMADE~1`"
   ]
  },
  {
   "cell_type": "code",
   "execution_count": null,
   "metadata": {},
   "outputs": [],
   "source": [
    "from common_workflow_schemas.utils.printers import print_json"
   ]
  },
  {
   "cell_type": "markdown",
   "metadata": {},
   "source": [
    "# Build input"
   ]
  },
  {
   "cell_type": "markdown",
   "metadata": {},
   "source": [
    "## Code"
   ]
  },
  {
   "cell_type": "markdown",
   "metadata": {},
   "source": [
    "### Execution Environment"
   ]
  },
  {
   "cell_type": "code",
   "execution_count": null,
   "metadata": {},
   "outputs": [],
   "source": [
    "from common_workflow_schemas.schemas.code import ExecutionEnvironment\n",
    "\n",
    "execution_environment = ExecutionEnvironment(\n",
    "    **{\n",
    "        \"name\": \"localhost-test\",\n",
    "        \"metadata\": {\n",
    "            \"hostname\": \"localhost\",\n",
    "            \"description\": \"Test machine\",\n",
    "            \"transport_protocol\": \"local\",\n",
    "            \"scheduler\": \"slurm\",\n",
    "            \"queue\": \"compute\",\n",
    "            \"architecture\": \"x86_64\",\n",
    "            \"os\": {\n",
    "                \"name\": \"Linux\",\n",
    "                \"metadata\": {\n",
    "                    \"distribution\": {\n",
    "                        \"name\": \"Ubuntu\",\n",
    "                        \"version\": \"24.04.2\",\n",
    "                    }\n",
    "                },\n",
    "            },\n",
    "            \"preinstalled\": False,\n",
    "            \"path\": \"/usr/bin/pw.x\",\n",
    "        },\n",
    "    },\n",
    ")\n",
    "ee_schema = execution_environment.model_oo_ld()\n",
    "# print_json(ee_schema)"
   ]
  },
  {
   "cell_type": "markdown",
   "metadata": {},
   "source": [
    "### Package"
   ]
  },
  {
   "cell_type": "markdown",
   "metadata": {},
   "source": [
    "#### Manager"
   ]
  },
  {
   "cell_type": "code",
   "execution_count": null,
   "metadata": {},
   "outputs": [],
   "source": [
    "from common_workflow_schemas.schemas.code import PackageManager\n",
    "\n",
    "package_manager = PackageManager(\n",
    "    **{\n",
    "        \"name\": \"conda\",\n",
    "        \"metadata\": {\n",
    "            \"channel\": \"conda-forge\",\n",
    "            \"version\": \"24.7.1\",\n",
    "        },\n",
    "    }\n",
    ")\n",
    "pm_schema = package_manager.model_oo_ld()\n",
    "# print_json(pm_schema)"
   ]
  },
  {
   "cell_type": "markdown",
   "metadata": {},
   "source": [
    "#### Create Package"
   ]
  },
  {
   "cell_type": "code",
   "execution_count": null,
   "metadata": {},
   "outputs": [],
   "source": [
    "from common_workflow_schemas.schemas.code import Package\n",
    "\n",
    "package = Package(\n",
    "    **{\n",
    "        \"name\": \"qe\",\n",
    "        \"package_manager\": package_manager,\n",
    "        \"metadata\": {\n",
    "            \"version\": \"7.2\",\n",
    "        },\n",
    "    }\n",
    ")\n",
    "package_schema = package.model_oo_ld()\n",
    "# print_json(package_schema)"
   ]
  },
  {
   "cell_type": "markdown",
   "metadata": {},
   "source": [
    "### Create code"
   ]
  },
  {
   "cell_type": "code",
   "execution_count": null,
   "metadata": {},
   "outputs": [],
   "source": [
    "from common_workflow_schemas.schemas.code import Code\n",
    "\n",
    "code = Code(\n",
    "    identifier=\"07f316b1-5403-40eb-b4dc-6be4a529ce67\",  # pw-7.4@localhost\n",
    "    name=\"Quantum ESPRESSO\",\n",
    "    package=package,\n",
    "    executionEnvironment=execution_environment,\n",
    ")\n",
    "code_schema = code.model_oo_ld()\n",
    "# print_json(code_schema)"
   ]
  },
  {
   "cell_type": "markdown",
   "metadata": {},
   "source": [
    "## Engine"
   ]
  },
  {
   "cell_type": "code",
   "execution_count": null,
   "metadata": {},
   "outputs": [],
   "source": [
    "from common_workflow_schemas.schemas.engine import Engine\n",
    "\n",
    "engine = Engine(\n",
    "    code=code,\n",
    "    options={\n",
    "        \"resources\": {\n",
    "            \"num_machines\": 1,\n",
    "        },\n",
    "    },\n",
    ")\n",
    "engine_schema = engine.model_oo_ld()\n",
    "# print_json(engine_schema)"
   ]
  },
  {
   "cell_type": "markdown",
   "metadata": {},
   "source": [
    "## Relax inputs"
   ]
  },
  {
   "cell_type": "markdown",
   "metadata": {},
   "source": [
    "### Common inputs"
   ]
  },
  {
   "cell_type": "code",
   "execution_count": null,
   "metadata": {},
   "outputs": [],
   "source": [
    "from common_workflow_schemas.schemas.relax import CommonRelaxInputs\n",
    "\n",
    "common_inputs = CommonRelaxInputs(\n",
    "    engines={\n",
    "        \"relax\": engine,\n",
    "    },\n",
    "    protocol=\"fast\",\n",
    "    relax_type=\"positions_cell\",\n",
    "    reference_process=\"e03d0b01-5ab4-4628-8049-ca2b940ce19a\",\n",
    ")\n",
    "inputs_schema = common_inputs.model_oo_ld()\n",
    "# print_json(inputs_schema)"
   ]
  },
  {
   "cell_type": "markdown",
   "metadata": {},
   "source": [
    "### OPTIMADE Structure"
   ]
  },
  {
   "cell_type": "code",
   "execution_count": null,
   "metadata": {},
   "outputs": [],
   "source": [
    "from optimade.client import OptimadeClient\n",
    "\n",
    "url = \"https://aiida.materialscloud.org/mc3d/optimade\"\n",
    "query = 'elements HAS \"Si\" AND nsites < 2'\n",
    "client = OptimadeClient(url)"
   ]
  },
  {
   "cell_type": "code",
   "execution_count": null,
   "metadata": {},
   "outputs": [],
   "source": [
    "%%capture\n",
    "\n",
    "_ = client.get(query)"
   ]
  },
  {
   "cell_type": "code",
   "execution_count": null,
   "metadata": {},
   "outputs": [],
   "source": [
    "results = client.all_results[\"structures\"][query][url]\n",
    "structure_entry = results.data[0]"
   ]
  },
  {
   "cell_type": "markdown",
   "metadata": {},
   "source": [
    "### Create relax inputs"
   ]
  },
  {
   "cell_type": "code",
   "execution_count": null,
   "metadata": {},
   "outputs": [],
   "source": [
    "from common_workflow_schemas.schemas.relax import RelaxInputs\n",
    "\n",
    "relax_inputs = RelaxInputs(\n",
    "    structure=structure_entry,\n",
    "    **common_inputs.model_dump(),\n",
    ")\n",
    "ri_schema = relax_inputs.model_oo_ld()\n",
    "# print_json(ri_schema)"
   ]
  },
  {
   "cell_type": "markdown",
   "metadata": {},
   "source": [
    "# AiiDA input prep"
   ]
  },
  {
   "cell_type": "code",
   "execution_count": null,
   "metadata": {},
   "outputs": [],
   "source": [
    "from aiida import load_profile, orm\n",
    "\n",
    "load_profile();"
   ]
  },
  {
   "cell_type": "markdown",
   "metadata": {},
   "source": [
    "## Expand/compact"
   ]
  },
  {
   "cell_type": "code",
   "execution_count": null,
   "metadata": {},
   "outputs": [],
   "source": [
    "from pyld import jsonld\n",
    "\n",
    "expanded = jsonld.expand(ri_schema, ri_schema[\"@context\"])  # type: ignore\n",
    "# print_json(expanded)"
   ]
  },
  {
   "cell_type": "code",
   "execution_count": null,
   "metadata": {},
   "outputs": [],
   "source": [
    "ri_context: dict = ri_schema[\"@context\"]\n",
    "aiida_context = {\n",
    "    \"@context\": {\n",
    "        key: value  # if key in (\"@vocab\", \"ex\", \"cw\") else f\"aiida_{key}\": value\n",
    "        for key, value in ri_context.items()\n",
    "    }\n",
    "}\n",
    "\n",
    "compacted: dict = jsonld.compact(expanded, aiida_context)  # type: ignore\n",
    "# print_json(compacted[\"structure\"])"
   ]
  },
  {
   "cell_type": "markdown",
   "metadata": {},
   "source": [
    "## Structure\n",
    "\n",
    "The following post-processing of the compacted structure data is only\n",
    "necessary due to the lack of semantic annotation in OPTIMADE, particularly\n",
    "its `StructureResource` model.\n",
    "\n",
    "Additionally, the conversion from `StructureResource` to `StructureData` could be\n",
    "automated via semantics-aware serializers, or dedicated tools, e.g. <a href=\"https://sintef.github.io/dlite/\">dlite</a>\n"
   ]
  },
  {
   "cell_type": "code",
   "execution_count": null,
   "metadata": {},
   "outputs": [],
   "source": [
    "import numpy as np\n",
    "\n",
    "\n",
    "def process_structure_resource(structure_data: dict):\n",
    "    attributes = structure_data[\"attributes\"]\n",
    "\n",
    "    # These need to be lists\n",
    "    for key in (\n",
    "        \"elements\",\n",
    "        \"elements_ratios\",\n",
    "        \"cartesian_site_positions\",\n",
    "        \"species\",\n",
    "        \"species_at_sites\",\n",
    "    ):\n",
    "        attributes[key] = [attributes[key]]\n",
    "\n",
    "    # These need to be lists\n",
    "    for key in (\n",
    "        \"chemical_symbols\",\n",
    "        \"concentration\",\n",
    "        \"mass\",\n",
    "    ):\n",
    "        attributes[\"species\"][0][key] = [attributes[\"species\"][0][key]]\n",
    "\n",
    "    # This needs to be structure as a 3D vector list\n",
    "    attributes[\"lattice_vectors\"] = (\n",
    "        np.array(attributes[\"lattice_vectors\"]).reshape((3, 3)).tolist()\n",
    "    )\n",
    "\n",
    "\n",
    "process_structure_resource(compacted[\"structure\"])"
   ]
  },
  {
   "cell_type": "code",
   "execution_count": null,
   "metadata": {},
   "outputs": [],
   "source": [
    "from optimade.adapters.structures.aiida import get_aiida_structure_data\n",
    "from optimade.models.structures import StructureResource\n",
    "\n",
    "structure_resource = StructureResource(**compacted[\"structure\"])\n",
    "structure: orm.StructureData = get_aiida_structure_data(structure_resource)"
   ]
  },
  {
   "cell_type": "markdown",
   "metadata": {},
   "source": [
    "## Code\n",
    "\n",
    "Ideally, the provided code information (inspect by running the code below) **should be\n",
    "made sufficient** for AiiDA to create the necessary nodes (`Computer`, `Code`) for the\n",
    "requested executable. For example:\n",
    "\n",
    "```python\n",
    "> compacted[\"engines\"][\"relax\"][\"code\"]\n",
    "{\n",
    "    \"name\": \"Quantum ESPRESSO\",\n",
    "    \"package\": {\n",
    "        \"metadata\": {\"version\": \"7.2\"},\n",
    "        \"name\": \"qe\",\n",
    "        \"package_manager\": {\n",
    "            \"metadata\": {\n",
    "                \"channel\": \"conda-forge\",\n",
    "                \"version\": \"24.7.1\",\n",
    "            },\n",
    "            \"name\": \"conda\",\n",
    "        },\n",
    "    },\n",
    "    \"executionEnvironment\": {\n",
    "        \"metadata\": {\n",
    "            \"architecture\": \"x86_64\",\n",
    "            \"description\": \"Test machine\",\n",
    "            \"hostname\": \"localhost\",\n",
    "            \"os\": {\n",
    "                \"metadata\": {\n",
    "                    \"distribution\": {\n",
    "                        \"name\": \"Ubuntu\",\n",
    "                        \"version\": \"24.04.2\",\n",
    "                    }\n",
    "                },\n",
    "                \"name\": \"Linux\",\n",
    "            },\n",
    "            \"path\": \"/usr/bin/pw.x\",\n",
    "            \"preinstalled\": False,\n",
    "            \"queue\": \"compute\",\n",
    "            \"scheduler\": \"slurm\",\n",
    "            \"transport_protocol\": \"local\",\n",
    "        },\n",
    "        \"name\": \"localhost-test\",\n",
    "    },\n",
    "}\n",
    "```\n",
    "\n",
    "This is, however, outside the scope of the present phase. Here, we load an existing code."
   ]
  },
  {
   "cell_type": "code",
   "execution_count": null,
   "metadata": {},
   "outputs": [],
   "source": [
    "code = orm.load_code(compacted[\"engines\"][\"relax\"][\"code\"][\"identifier\"])"
   ]
  },
  {
   "cell_type": "code",
   "execution_count": null,
   "metadata": {},
   "outputs": [],
   "source": [
    "compacted[\"engines\"][\"relax\"][\"code\"] = code"
   ]
  },
  {
   "cell_type": "markdown",
   "metadata": {},
   "source": [
    "## Build input"
   ]
  },
  {
   "cell_type": "code",
   "execution_count": null,
   "metadata": {},
   "outputs": [],
   "source": [
    "acwf_input = {\n",
    "    \"structure\": structure,\n",
    "    \"engines\": compacted[\"engines\"],\n",
    "    \"protocol\": compacted[\"protocol\"],\n",
    "    \"relax_type\": compacted[\"relax_type\"],\n",
    "}\n",
    "\n",
    "\n",
    "if electronic_type := compacted.get(\"electronic_type\"):\n",
    "    acwf_input[\"electronic_type\"] = electronic_type\n",
    "\n",
    "if spin_type := compacted.get(\"spin_type\"):\n",
    "    acwf_input[\"spin_type\"] = spin_type\n",
    "\n",
    "if threshold_forces := compacted.get(\"threshold_forces\"):\n",
    "    acwf_input[\"threshold_forces\"] = threshold_forces\n",
    "\n",
    "if threshold_stress := compacted.get(\"threshold_stress\"):\n",
    "    acwf_input[\"threshold_stress\"] = threshold_stress\n",
    "\n",
    "if reference_process := compacted.get(\"reference_process\"):\n",
    "    # A similar comment here w.r.t automation as made above for the structure\n",
    "    acwf_input[\"reference_workchain\"] = orm.load_node(reference_process)\n",
    "\n",
    "# acwf_inputs"
   ]
  },
  {
   "cell_type": "markdown",
   "metadata": {},
   "source": [
    "## Submit calculation"
   ]
  },
  {
   "cell_type": "code",
   "execution_count": null,
   "metadata": {},
   "outputs": [],
   "source": [
    "from aiida.engine import submit\n",
    "from aiida_common_workflows.workflows.relax.quantum_espresso import (\n",
    "    QuantumEspressoCommonRelaxWorkChain as RelaxWorkChain,\n",
    ")\n",
    "\n",
    "builder = RelaxWorkChain.get_input_generator().get_builder(**acwf_input)\n",
    "submit(builder)"
   ]
  },
  {
   "cell_type": "markdown",
   "metadata": {},
   "source": [
    "# Output\n",
    "\n",
    "Here we manually convert AiiDA's outputs to the generic schema. However, in principle,\n",
    "the above procedure using JSON-LD expansion/compaction on an output OO-LD document, along\n",
    "with automated data conversion (e.g. using `dlite`), could be used to automate the procedure."
   ]
  },
  {
   "cell_type": "code",
   "execution_count": null,
   "metadata": {},
   "outputs": [],
   "source": [
    "node = orm.load_node(847)"
   ]
  },
  {
   "cell_type": "code",
   "execution_count": null,
   "metadata": {},
   "outputs": [],
   "source": [
    "from optimade.adapters.structures import Structure\n",
    "\n",
    "def process(node):\n",
    "    if isinstance(node, orm.ArrayData):\n",
    "        return node.get_array()\n",
    "    if isinstance(node, orm.StructureData):\n",
    "        return Structure.ingest_from(structure.get_ase(), format=\"ase\").entry\n",
    "    return node.value"
   ]
  },
  {
   "cell_type": "code",
   "execution_count": null,
   "metadata": {},
   "outputs": [],
   "source": [
    "outputs = {key: process(node.outputs[key]) for key in  node.outputs}"
   ]
  },
  {
   "cell_type": "code",
   "execution_count": null,
   "metadata": {},
   "outputs": [],
   "source": [
    "from common_workflow_schemas.schemas.relax import RelaxOutputs\n",
    "\n",
    "outputs_model = RelaxOutputs(**outputs)\n",
    "outputs_model.model_dump()"
   ]
  },
  {
   "cell_type": "code",
   "execution_count": null,
   "metadata": {},
   "outputs": [],
   "source": []
  }
 ],
 "metadata": {
  "kernelspec": {
   "display_name": "base",
   "language": "python",
   "name": "python3"
  },
  "language_info": {
   "codemirror_mode": {
    "name": "ipython",
    "version": 3
   },
   "file_extension": ".py",
   "mimetype": "text/x-python",
   "name": "python",
   "nbconvert_exporter": "python",
   "pygments_lexer": "ipython3",
   "version": "3.9.13"
  }
 },
 "nbformat": 4,
 "nbformat_minor": 2
}
