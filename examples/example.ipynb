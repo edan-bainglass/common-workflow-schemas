{
 "cells": [
  {
   "cell_type": "markdown",
   "metadata": {},
   "source": [
    "# General input prep"
   ]
  },
  {
   "cell_type": "markdown",
   "metadata": {},
   "source": [
    "### Fetch structure entry from OPTIMADE"
   ]
  },
  {
   "cell_type": "code",
   "execution_count": null,
   "metadata": {},
   "outputs": [],
   "source": [
    "from optimade.client import OptimadeClient\n",
    "\n",
    "url = \"https://aiida.materialscloud.org/mc3d/optimade\"\n",
    "query = 'elements HAS \"Si\" AND nsites < 2'\n",
    "client = OptimadeClient(url)"
   ]
  },
  {
   "cell_type": "code",
   "execution_count": null,
   "metadata": {},
   "outputs": [],
   "source": [
    "%%capture\n",
    "\n",
    "_ = client.get(query)"
   ]
  },
  {
   "cell_type": "code",
   "execution_count": null,
   "metadata": {},
   "outputs": [],
   "source": [
    "results = client.all_results[\"structures\"][query][url]"
   ]
  },
  {
   "cell_type": "code",
   "execution_count": null,
   "metadata": {},
   "outputs": [],
   "source": [
    "structure_entry = results.data[0]"
   ]
  },
  {
   "cell_type": "code",
   "execution_count": null,
   "metadata": {},
   "outputs": [],
   "source": [
    "from pathlib import Path\n",
    "\n",
    "relax_engine = {\n",
    "    \"code\": {\n",
    "        # TODO handle cases where installing a new code could be sufficient\n",
    "        \"identifier\": \"\",  # AiiDA code identifier\n",
    "        \"executed_by\": {\n",
    "            \"name\": \"python\",\n",
    "            \"version\": \"3.10.16\",\n",
    "            \"availability\": {\n",
    "                \"package_manager\": {\n",
    "                    \"name\": \"conda\",\n",
    "                    \"version\": \"24.7.1\",\n",
    "                },\n",
    "                \"package\": \"python\",\n",
    "            },\n",
    "        },\n",
    "        \"executed_on\": {\n",
    "            \"hostname\": \"localhost\",\n",
    "            \"architecture\": \"x86_64\",\n",
    "            \"os\": {\n",
    "                \"name\": \"Linux\",\n",
    "                \"metadata\": {\n",
    "                    \"distribution\": {\n",
    "                        \"name\": \"Ubuntu\",\n",
    "                        \"version\": \"24.04.2\",\n",
    "                    }\n",
    "                },\n",
    "            },\n",
    "        },\n",
    "        \"executable_path\": (Path(\".\") / \"hello_world.py\").absolute().as_posix(),\n",
    "    },\n",
    "    \"options\": {\n",
    "        \"resources\": {\n",
    "            \"num_machines\": 1,\n",
    "        },\n",
    "        \"max_wallclock_seconds\": 3600,\n",
    "    },\n",
    "}\n",
    "\n",
    "inputs = {\n",
    "    \"structure\": structure_entry,\n",
    "    \"engines\": {\n",
    "        \"relax\": relax_engine,\n",
    "    },\n",
    "    \"protocol\": \"fast\",\n",
    "    \"relax_type\": \"positions\",\n",
    "    \"threshold_forces\": 0.01,\n",
    "    \"threshold_stress\": 0.1,\n",
    "    \"reference_process\": None,  # Optional AiiDA process UUID\n",
    "}"
   ]
  },
  {
   "cell_type": "markdown",
   "metadata": {},
   "source": [
    "# Internal conversion to AiiDA"
   ]
  },
  {
   "cell_type": "code",
   "execution_count": null,
   "metadata": {},
   "outputs": [],
   "source": [
    "def pretty(d: dict, indent: int = 4, level: int = 0):\n",
    "    for key, value in d.items():\n",
    "        print(\" \" * indent * level + str(key))\n",
    "        if isinstance(value, dict):\n",
    "            pretty(value, indent, level + 1)\n",
    "        else:\n",
    "            print(\" \" * indent * (level + 1) + str(value))"
   ]
  },
  {
   "cell_type": "code",
   "execution_count": null,
   "metadata": {},
   "outputs": [],
   "source": [
    "from aiida import orm, common, load_profile\n",
    "\n",
    "load_profile();"
   ]
  },
  {
   "cell_type": "code",
   "execution_count": null,
   "metadata": {},
   "outputs": [],
   "source": [
    "from common_workflow_schemas.schemas.relax import RelaxInputsModel\n",
    "\n",
    "inputs_model = RelaxInputsModel(**inputs)"
   ]
  },
  {
   "cell_type": "code",
   "execution_count": null,
   "metadata": {},
   "outputs": [],
   "source": [
    "# inputs_model.model_dump()"
   ]
  },
  {
   "cell_type": "code",
   "execution_count": null,
   "metadata": {},
   "outputs": [],
   "source": [
    "# pretty(inputs_model.model_json_schema(), indent=2)"
   ]
  },
  {
   "cell_type": "code",
   "execution_count": null,
   "metadata": {},
   "outputs": [],
   "source": [
    "from optimade.adapters import Structure\n",
    "\n",
    "structure_entry = inputs_model.structure.model_dump()\n",
    "structure = Structure(structure_entry).convert(format=\"aiida_structuredata\")"
   ]
  },
  {
   "cell_type": "code",
   "execution_count": null,
   "metadata": {},
   "outputs": [],
   "source": [
    "import typing as t\n",
    "\n",
    "def load_node(identifier: t.Union[str, int]) -> t.Optional[orm.Node]:\n",
    "    try:\n",
    "        return orm.load_node(identifier)\n",
    "    except common.exceptions.NotExistent:\n",
    "        return None"
   ]
  },
  {
   "cell_type": "code",
   "execution_count": null,
   "metadata": {},
   "outputs": [],
   "source": [
    "reference_process = load_node(inputs_model.reference_process)"
   ]
  },
  {
   "cell_type": "code",
   "execution_count": null,
   "metadata": {},
   "outputs": [],
   "source": [
    "def load_code(engine: str):\n",
    "    return orm.load_code(inputs_model.engines[engine].code.identifier)"
   ]
  },
  {
   "cell_type": "code",
   "execution_count": null,
   "metadata": {},
   "outputs": [],
   "source": [
    "acwf_input = {\n",
    "    \"structure\": structure,\n",
    "    \"engines\": {\n",
    "        engine: {\n",
    "            \"code\": load_code(engine),\n",
    "            \"options\": inputs_model.engines[engine].options,\n",
    "        }\n",
    "        for engine in inputs_model.engines\n",
    "    },\n",
    "    \"protocol\": inputs_model.protocol,\n",
    "    \"relax_type\": inputs_model.relax_type,\n",
    "    \"threshold_forces\": orm.Float(inputs_model.threshold_forces),\n",
    "    \"threshold_stress\": orm.Float(inputs_model.threshold_stress),\n",
    "    \"electronic_type\": orm.Str(inputs_model.electronic_type)\n",
    "    if inputs_model.electronic_type\n",
    "    else None,\n",
    "    \"spin_type\": orm.Str(inputs_model.spin_type) if inputs_model.spin_type else None,\n",
    "    \"reference_workchain\": reference_process,\n",
    "}"
   ]
  },
  {
   "cell_type": "code",
   "execution_count": null,
   "metadata": {},
   "outputs": [],
   "source": [
    "pretty(acwf_input, indent=2)\n"
   ]
  }
 ],
 "metadata": {
  "kernelspec": {
   "display_name": "common-workflows",
   "language": "python",
   "name": "python3"
  },
  "language_info": {
   "codemirror_mode": {
    "name": "ipython",
    "version": 3
   },
   "file_extension": ".py",
   "mimetype": "text/x-python",
   "name": "python",
   "nbconvert_exporter": "python",
   "pygments_lexer": "ipython3",
   "version": "3.10.16"
  }
 },
 "nbformat": 4,
 "nbformat_minor": 2
}
